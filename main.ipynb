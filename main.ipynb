{
 "cells": [
  {
   "cell_type": "code",
   "execution_count": null,
   "metadata": {},
   "outputs": [],
   "source": [
    "from api import APIConnection\n",
    "from get_data import GetData\n",
    "import logging\n",
    "import datetime\n",
    "\n",
    "logging.basicConfig(level=logging.INFO, format='%(asctime)s - %(levelname)s - %(message)s')"
   ]
  },
  {
   "cell_type": "code",
   "execution_count": null,
   "metadata": {},
   "outputs": [],
   "source": [
    "# Config\n",
    "CLIENT_ID = \n",
    "CLIENT_SECRET = \n",
    "USER_AGENT = \n",
    "\n",
    "api_inst = APIConnection(client_id=CLIENT_ID,\n",
    "                         client_secret=CLIENT_SECRET,\n",
    "                         user_agent=USER_AGENT)\n",
    "\n",
    "reddit_client = api_inst.initialise_client()"
   ]
  },
  {
   "cell_type": "code",
   "execution_count": null,
   "metadata": {},
   "outputs": [],
   "source": [
    "ticker_patterns = [r'\\bBank\\s+of\\s+America\\b', r'\\bBAC\\b',\n",
    "                    r'\\bBank\\s+of\\s+England\\b', r'\\bBoE\\b',  # Central bank, not publicly traded\n",
    "                    r'\\bBarclays\\b', r'\\bBCS\\b',\n",
    "                    r'\\bCiti\\b', r'\\bCitigroup\\b', r'\\bC\\b',\n",
    "                    r'\\bCoutts\\b',  # Part of NatWest Group, not independently traded\n",
    "                    r'\\bCredit\\s+Suisse\\b', r'\\bCS\\b',\n",
    "                    r'\\bGoldman\\s+Sachs\\b', r'\\bGS\\b',\n",
    "                    r'\\bHalifax\\b',  # Part of Lloyds Banking Group, not independently traded\n",
    "                    r'\\bHSBC\\b', r'\\bHSBC\\b',\n",
    "                    r'\\bLloyds\\b', r'\\bLYG\\b',\n",
    "                    r'\\bMetro\\b', r'\\bMTRO.L\\b', r'\\bMTRO\\b', \n",
    "                    r'\\bMorgan\\s+Stanley\\b', r'\\bMS\\b',\n",
    "                    r'\\bNatWest\\b', r'\\bNWG\\b',\n",
    "                    r'\\bPNC\\b', r'\\bpnc\\b', r'\\bPNC\\b',\n",
    "                    r'\\bSantander\\b',  r'\\bSAN\\b', # traded in Spain as 'SAN'\n",
    "                    r'\\bSilicon\\s+Valley\\s+Bank\\b', r'\\bSVB\\b', r'\\bSIVBQ\\b' \n",
    "                    r'\\bStandard\\s+Chartered\\b', r'\\bSCBFF\\b',\n",
    "                    r'\\bTruist\\b', r'\\bTFC\\b',\n",
    "                    r'\\bVirgin\\s+Money\\b', r'\\bVMUK\\b',\n",
    "                    r'\\bWells\\s+Fargo\\b', r'\\bWFC\\b',\n",
    "                    r'\\bRoyal\\s+Bank\\s+of\\s+Scotland\\b', r'\\bRBS\\b', r'\\bNWG\\b',  # Now rebranded as NatWest Group\n",
    "                    r'\\bThe\\s+Co-operative\\s+Bank\\b',  # Not publicly traded \n",
    "                    r'\\bTSB\\s+Bank\\b',  # TSB Banking Group plc was acquired by Banco Sabadell; not independently traded\n",
    "                    r'\\bYorkshire\\s+Bank\\b', r'\\bCYBG\\b',  # Part of Clydesdale and Yorkshire Banking Group, traded as 'CYBG' before its acquisition by Virgin Money\n",
    "                    r'\\bAllied\\s+Irish\\s+Bank\\s+(UK)\\b', r'\\bAIBG.L\\b'\n",
    "                    ]\n",
    "\n",
    "crisis_patterns = [r'\\bCredit\\s+Suisse\\b', r'\\bCS\\b',\n",
    "                   r'\\bSilicon\\s+Valley\\s+Bank\\b', r'\\bSVB\\b', r'\\bSIVBQ\\b' ]\n",
    "\n",
    "\n",
    "data_inst = GetData(reddit_client=reddit_client,\n",
    "                    subreddit='wallstreetbets',\n",
    "                    search_patterns=ticker_patterns)\n",
    "\n",
    "last_run_time = datetime.datetime(2023, 2, 28, 10, 0)\n",
    "\n",
    "df = data_inst.get_comments(comment_target=100, last_run_time=last_run_time)\n"
   ]
  },
  {
   "cell_type": "code",
   "execution_count": null,
   "metadata": {},
   "outputs": [],
   "source": [
    "df_clean = data_inst.clean_comments(df)\n",
    "#df.head()"
   ]
  },
  {
   "cell_type": "code",
   "execution_count": null,
   "metadata": {},
   "outputs": [],
   "source": [
    "import database as db\n",
    "import sqlite3\n",
    "\n",
    "# Database file\n",
    "database = r\"reddit-sqlite.db\"\n",
    "\n",
    "# Create a SQLite connection\n",
    "conn = sqlite3.connect(database)\n",
    "\n",
    "# Create a table (only if it doesn't exist)\n",
    "# Customize the SQL CREATE TABLE statement according to your data schema\n",
    "create_table_sql = \"\"\"\n",
    "CREATE TABLE IF NOT EXISTS comments (\n",
    "    comment_id TEXT PRIMARY KEY,\n",
    "    post_title TEXT,\n",
    "    subreddit TEXT,\n",
    "    comment_date TEXT,\n",
    "    comment_author TEXT,\n",
    "    comment TEXT,\n",
    "    matched_phrase TEXT,\n",
    "    upvotes INTEGER\n",
    ");\n",
    "\"\"\"\n",
    "cursor = conn.cursor()\n",
    "cursor.execute(create_table_sql)\n",
    "conn.commit()\n",
    "\n",
    "# Insert DataFrame into the database without index\n",
    "# Replace 'comments' with your actual table name\n",
    "df.to_sql('comments', conn, if_exists='append', index=False)\n",
    "\n",
    "# Close the connection\n",
    "conn.close()\n",
    "\n",
    "print(\"Data inserted successfully.\")"
   ]
  },
  {
   "cell_type": "code",
   "execution_count": null,
   "metadata": {},
   "outputs": [],
   "source": []
  }
 ],
 "metadata": {
  "kernelspec": {
   "display_name": "reddit-api",
   "language": "python",
   "name": "python3"
  },
  "language_info": {
   "codemirror_mode": {
    "name": "ipython",
    "version": 3
   },
   "file_extension": ".py",
   "mimetype": "text/x-python",
   "name": "python",
   "nbconvert_exporter": "python",
   "pygments_lexer": "ipython3",
   "version": "3.11.5"
  },
  "orig_nbformat": 4
 },
 "nbformat": 4,
 "nbformat_minor": 2
}
