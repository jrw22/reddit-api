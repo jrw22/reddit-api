{
 "cells": [
  {
   "cell_type": "code",
   "execution_count": 1,
   "metadata": {},
   "outputs": [],
   "source": [
    "import pandas as pd\n",
    "import praw # Python Reddit API Wrapper"
   ]
  },
  {
   "cell_type": "code",
   "execution_count": 16,
   "metadata": {},
   "outputs": [],
   "source": [
    "# Configuration\n",
    "CLIENT_ID = 'b3CUxOmuvB9QeRasUu3Hew'\n",
    "CLIENT_SECRET = 'CqqnRJucVB500qgPSWTH9wHHx2acQQ'\n",
    "USER_AGENT = 'script:my_reddit_script:v1.0 (by /u/py_dev684)'\n",
    "\n",
    "# Initialize the Reddit client\n",
    "reddit = praw.Reddit(\n",
    "    client_id=CLIENT_ID,\n",
    "    client_secret=CLIENT_SECRET,\n",
    "    user_agent=USER_AGENT\n",
    ")"
   ]
  },
  {
   "cell_type": "code",
   "execution_count": 21,
   "metadata": {},
   "outputs": [],
   "source": [
    "\n",
    "def fetch_top_comments(subreddits, post_limit=10, comment_limit=5):\n",
    "    \"\"\"Fetch top comments from specified subreddits \"\"\"\n",
    "\n",
    "    data = []  # List to store data before converting to DataFrame\n",
    "    for subreddit_name in subreddits:\n",
    "        print(f\"Fetching from r/{subreddit_name}...\")\n",
    "        subreddit = reddit.subreddit(subreddit_name)\n",
    "        # Fetch the top 10 hot posts\n",
    "        for post in subreddit.hot(limit=post_limit):\n",
    "            # Fetch and store the top 5 comments for the post\n",
    "            post.comments.replace_more(limit=None)  # Replace \"MoreComments\" with actual comments\n",
    "            for comment in post.comments[:comment_limit]:\n",
    "                data.append({\n",
    "                    'Subreddit': subreddit_name,\n",
    "                    'Post Title': post.title,\n",
    "                    'Comment Author': str(comment.author),  # Convert Redditor object to string\n",
    "                    'Comment': comment.body\n",
    "                })\n",
    "\n",
    "    # Convert the data list into a DataFrame\n",
    "    df = pd.DataFrame(data)\n",
    "\n",
    "    # Save the DataFrame to a CSV file\n",
    "    df.to_csv('reddit_comments.csv', index=False)\n",
    "    print(\"Data saved to reddit_comments.csv\")\n",
    "\n",
    "def fetch_comments_with_phrases(subreddits, phrases, comment_target=20):\n",
    "    \"\"\"Fetch comments that contain a target phrase, sourced from 'hot' posts from the specified subreddits. Comments are sourced from hot posts in each subreddit. The hot sorting method is a combination of factors that Reddit uses, including the age of the post and its upvote count. It's meant to show posts that are currently popular and relevant.\"\"\"\n",
    "\n",
    "    data = []  # List to store data before converting to DataFrame\n",
    "\n",
    "    for subreddit_name in subreddits:\n",
    "        print(f\"Fetching from r/{subreddit_name}...\")\n",
    "        subreddit = reddit.subreddit(subreddit_name)\n",
    "        \n",
    "        for post in subreddit.hot(limit=None):  # Iterating through all hot posts\n",
    "            if len(data) >= comment_target:  # If we've hit our comment target, stop.\n",
    "                break\n",
    "\n",
    "            post.comments.replace_more(limit=None)  # Replace \"MoreComments\" with actual comments\n",
    "            \n",
    "            # Filter comments based on presence of target phrases\n",
    "            matching_comments = [comment for comment in post.comments if any(phrase.lower() in comment.body.lower() for phrase in phrases)]\n",
    "            \n",
    "            for comment in matching_comments:\n",
    "                data.append({\n",
    "                    'Subreddit': subreddit_name,\n",
    "                    'Post Title': post.title,\n",
    "                    'Comment Author': str(comment.author),\n",
    "                    'Comment': comment.body,\n",
    "                    'Upvotes': comment.score\n",
    "                })\n",
    "\n",
    "                if len(data) >= comment_target:  # If we've hit our comment target, stop.\n",
    "                    break\n",
    "\n",
    "    # Convert the data list into a DataFrame\n",
    "    df = pd.DataFrame(data)\n",
    "\n",
    "    # Save the DataFrame to a CSV file\n",
    "    df.to_csv('reddit_filtered_comments.csv', index=False)\n",
    "    print(\"Data saved to reddit_filtered_comments.csv\")"
   ]
  },
  {
   "cell_type": "code",
   "execution_count": 23,
   "metadata": {},
   "outputs": [
    {
     "name": "stdout",
     "output_type": "stream",
     "text": [
      "Fetching from r/finance...\n",
      "Data saved to reddit_filtered_comments.csv\n"
     ]
    }
   ],
   "source": [
    "subreddits = ['finance']\n",
    "target_phrases = ['bank run']\n",
    "\n",
    "if __name__ == \"__main__\":\n",
    "    # List of 5 subreddits\n",
    "    subreddits = subreddits\n",
    "    # List of target phrases\n",
    "    phrases = target_phrases\n",
    "    fetch_comments_with_phrases(subreddits, phrases, comment_target=2)"
   ]
  }
 ],
 "metadata": {
  "kernelspec": {
   "display_name": "reddit-api",
   "language": "python",
   "name": "python3"
  },
  "language_info": {
   "codemirror_mode": {
    "name": "ipython",
    "version": 3
   },
   "file_extension": ".py",
   "mimetype": "text/x-python",
   "name": "python",
   "nbconvert_exporter": "python",
   "pygments_lexer": "ipython3",
   "version": "3.11.5"
  },
  "orig_nbformat": 4
 },
 "nbformat": 4,
 "nbformat_minor": 2
}
