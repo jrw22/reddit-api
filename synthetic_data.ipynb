{
 "cells": [
  {
   "cell_type": "markdown",
   "metadata": {},
   "source": [
    "# Synthetic data creation"
   ]
  },
  {
   "cell_type": "code",
   "execution_count": 41,
   "metadata": {},
   "outputs": [],
   "source": [
    "import pandas as pd\n",
    "import random\n",
    "import csv\n",
    "from faker import Faker\n",
    "\n",
    "fake = Faker()\n",
    "\n",
    "def load_firms_from_csv(firm_list_path) -> list:\n",
    "        df = pd.read_csv(firm_list_path)\n",
    "        # Combine the 'name', 'abbreviation', and 'ticker' into a single list, excluding any NaN values\n",
    "        patterns = df[['name','altname', 'abbreviation', 'ticker','altticker']].fillna('').apply(lambda x: '|'.join(x[x != '']), axis=1).tolist()\n",
    "        # Ensure patterns are unique and non-empty\n",
    "        patterns = [pattern for pattern in set(patterns) if pattern]\n",
    "\n",
    "        # Split into a single list\n",
    "        xss = [i.split('|') for i in patterns]\n",
    "        firms = [x for xs in xss for x in xs]\n",
    "\n",
    "        return firms\n",
    "\n",
    "def read_tweet_templates(filepath:str) -> list:\n",
    "    with open(filepath, newline='', encoding='utf-8') as f:\n",
    "        reader = csv.reader(f, quotechar='\"')\n",
    "        tweet_templates = [item for row in reader for item in row if item]\n",
    "\n",
    "    return tweet_templates\n",
    "\n",
    "def generate_synthetic_tweets(num_records: int, firms: list, tweet_templates: list):\n",
    "    data=[]\n",
    "    for _ in range(num_records):\n",
    "        timestamp = fake.date_time_this_year().isoformat()\n",
    "        firm = random.choice(firms)\n",
    "        tweet_template = random.choice(tweet_templates)\n",
    "        content = tweet_template.format(firm)\n",
    "        #data.append({\"timestamp\": timestamp, \"tweet_content\": content, \"firm_mentioned\": firm})\n",
    "        data.append({\"timestamp\": timestamp, \"tweet_content\": content})\n",
    "\n",
    "    return pd.DataFrame(data)"
   ]
  },
  {
   "cell_type": "code",
   "execution_count": 42,
   "metadata": {},
   "outputs": [],
   "source": [
    "tweet_templates = read_tweet_templates(\"tweet_templates.csv\")\n",
    "firms = load_firms_from_csv(firm_list_path=\"firms.csv\")\n",
    "\n",
    "df = generate_synthetic_tweets(num_records=2000, firms=firms, tweet_templates=tweet_templates)"
   ]
  },
  {
   "cell_type": "code",
   "execution_count": 43,
   "metadata": {},
   "outputs": [],
   "source": [
    "df.to_csv('synthetic.csv')"
   ]
  }
 ],
 "metadata": {
  "kernelspec": {
   "display_name": "reddit",
   "language": "python",
   "name": "python3"
  },
  "language_info": {
   "codemirror_mode": {
    "name": "ipython",
    "version": 3
   },
   "file_extension": ".py",
   "mimetype": "text/x-python",
   "name": "python",
   "nbconvert_exporter": "python",
   "pygments_lexer": "ipython3",
   "version": "3.11.8"
  }
 },
 "nbformat": 4,
 "nbformat_minor": 2
}
