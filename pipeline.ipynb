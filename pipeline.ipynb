{
 "cells": [
  {
   "cell_type": "code",
   "execution_count": null,
   "metadata": {},
   "outputs": [],
   "source": [
    "# Standard imports\n",
    "import logging\n",
    "import datetime\n",
    "import pandas as pd\n",
    "\n",
    "# Related 3rd party imports\n",
    "import praw \n",
    "\n",
    "# Local imports\n",
    "from api import APIConnection\n",
    "from get_data import GetData\n",
    "from database import DatabaseManager\n",
    "\n",
    "logging.basicConfig(level=logging.INFO, format='%(asctime)s - %(levelname)s - %(message)s')"
   ]
  },
  {
   "cell_type": "code",
   "execution_count": null,
   "metadata": {},
   "outputs": [],
   "source": [
    "# Config\n",
    "CLIENT_ID = \n",
    "CLIENT_SECRET = \n",
    "USER_AGENT = \n",
    "\n",
    "api_inst = APIConnection(client_id=CLIENT_ID,\n",
    "                         client_secret=CLIENT_SECRET,\n",
    "                         user_agent=USER_AGENT)\n",
    "\n",
    "reddit_client = api_inst.initialise_client()"
   ]
  },
  {
   "cell_type": "code",
   "execution_count": null,
   "metadata": {},
   "outputs": [],
   "source": [
    "data_inst = GetData(reddit_client=reddit_client,\n",
    "                    firm_list_path='firms.csv',\n",
    "                    subreddit='wallstreetbets')\n",
    "\n",
    "last_run_time = datetime.datetime(2024, 3, 27, 10, 0)\n",
    "\n",
    "df = data_inst.get_comments(comment_target=10, last_run_time=last_run_time)"
   ]
  },
  {
   "cell_type": "code",
   "execution_count": null,
   "metadata": {},
   "outputs": [],
   "source": [
    "df = data_inst.clean_comments(df)\n"
   ]
  },
  {
   "cell_type": "code",
   "execution_count": null,
   "metadata": {},
   "outputs": [],
   "source": [
    "database_manager = DatabaseManager(db_path=\"reddit-sqlite.db\")\n",
    "database_manager.connect()\n",
    "database_manager.create_table()\n",
    "database_manager.insert_new_comments(df)\n",
    "database_manager.close()"
   ]
  },
  {
   "cell_type": "markdown",
   "metadata": {},
   "source": [
    "## Sentiment Analysis"
   ]
  },
  {
   "cell_type": "code",
   "execution_count": null,
   "metadata": {},
   "outputs": [],
   "source": [
    "# Load sentiment analyser\n",
    "import nltk\n",
    "from nltk.sentiment.vader import SentimentIntensityAnalyzer\n",
    "\n",
    "# Initialise VADER\n",
    "sia = SentimentIntensityAnalyzer()"
   ]
  },
  {
   "cell_type": "code",
   "execution_count": null,
   "metadata": {},
   "outputs": [],
   "source": [
    "# Apply VADER analysis on text column\n",
    "df['sentiment_scores'] = df['comment'].apply(lambda x: sia.polarity_scores(x))\n",
    "df['compound'] = df['sentiment_scores'].apply(lambda score_dict: score_dict['compound'])\n",
    "df['sentiment'] = df['compound'].apply(lambda c: 'POSITIVE' if c >= 0.05 else ('NEGATIVE' if c <= -0.05 else 'NEUTRAL'))\n",
    "df.head(5)"
   ]
  },
  {
   "cell_type": "code",
   "execution_count": null,
   "metadata": {},
   "outputs": [],
   "source": [
    "import openpyxl\n",
    "df.to_excel('reddit_sample.xlsx')"
   ]
  },
  {
   "cell_type": "markdown",
   "metadata": {},
   "source": [
    "## Read in db file"
   ]
  },
  {
   "cell_type": "code",
   "execution_count": null,
   "metadata": {},
   "outputs": [],
   "source": [
    "import pandas as pd\n",
    "import sqlite3\n",
    "\n",
    "# Connect to db\n",
    "conn = sqlite3.connect('reddit-sqlite.db')\n",
    "# Query\n",
    "query = \"SELECT * FROM comments\"\n",
    "df = pd.read_sql_query(query, conn)\n",
    "# Close connection\n",
    "conn.close()\n"
   ]
  },
  {
   "cell_type": "code",
   "execution_count": null,
   "metadata": {},
   "outputs": [],
   "source": [
    "len(df)"
   ]
  },
  {
   "cell_type": "code",
   "execution_count": null,
   "metadata": {},
   "outputs": [],
   "source": [
    "df.to_csv(\"raw_data.csv\")"
   ]
  },
  {
   "cell_type": "code",
   "execution_count": null,
   "metadata": {},
   "outputs": [],
   "source": []
  }
 ],
 "metadata": {
  "kernelspec": {
   "display_name": "reddit-api",
   "language": "python",
   "name": "python3"
  },
  "language_info": {
   "codemirror_mode": {
    "name": "ipython",
    "version": 3
   },
   "file_extension": ".py",
   "mimetype": "text/x-python",
   "name": "python",
   "nbconvert_exporter": "python",
   "pygments_lexer": "ipython3",
   "version": "3.11.8"
  },
  "orig_nbformat": 4
 },
 "nbformat": 4,
 "nbformat_minor": 2
}
