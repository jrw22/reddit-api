{
 "cells": [
  {
   "cell_type": "markdown",
   "metadata": {},
   "source": [
    "## Read in db file"
   ]
  },
  {
   "cell_type": "code",
   "execution_count": 1,
   "metadata": {},
   "outputs": [
    {
     "name": "stdout",
     "output_type": "stream",
     "text": [
      "Comments df: 815\n",
      "Sentiment df: 815\n"
     ]
    }
   ],
   "source": [
    "import pandas as pd\n",
    "import sqlite3\n",
    "\n",
    "# Connect to db\n",
    "conn = sqlite3.connect('reddit-sqlite.db')\n",
    "\n",
    "query = \"SELECT * FROM comments\"\n",
    "df = pd.read_sql_query(query, conn)\n",
    "print(f\"Comments df: {len(df)}\")\n",
    "df.to_excel(\"reddit_data_raw.xlsx\")\n",
    "\n",
    "query = \"SELECT * FROM sentiment\"\n",
    "sent_df = pd.read_sql_query(query, conn)\n",
    "print(f\"Sentiment df: {len(sent_df)}\")\n",
    "sent_df.to_excel(\"sentiment_data.xlsx\")\n",
    "\n",
    "# Close connection\n",
    "conn.close()\n"
   ]
  },
  {
   "cell_type": "markdown",
   "metadata": {},
   "source": [
    "## Remove author column by copying data to new table, excluding comment author column"
   ]
  },
  {
   "cell_type": "code",
   "execution_count": 15,
   "metadata": {},
   "outputs": [],
   "source": [
    "conn = sqlite3.connect('reddit-sqlite.db')\n",
    "cursor = conn.cursor()\n",
    "\n",
    "cursor.execute(\"ALTER TABLE comments DROP COLUMN comment_author\")\n",
    "\n",
    "conn.close()"
   ]
  },
  {
   "cell_type": "markdown",
   "metadata": {},
   "source": [
    "## Topic modelling\n",
    "Testing extracting 7 days of comments and modelling the topics. Converting ticker symbols to ful names aswell. "
   ]
  },
  {
   "cell_type": "code",
   "execution_count": 19,
   "metadata": {},
   "outputs": [
    {
     "name": "stderr",
     "output_type": "stream",
     "text": [
      "C:\\Users\\333866\\AppData\\Local\\Temp\\ipykernel_23040\\155381666.py:23: SettingWithCopyWarning: \n",
      "A value is trying to be set on a copy of a slice from a DataFrame.\n",
      "Try using .loc[row_indexer,col_indexer] = value instead\n",
      "\n",
      "See the caveats in the documentation: https://pandas.pydata.org/pandas-docs/stable/user_guide/indexing.html#returning-a-view-versus-a-copy\n",
      "  filtered_df['comment'] = filtered_df['comment'].apply(replace_tickers)\n"
     ]
    }
   ],
   "source": [
    "from datetime import datetime, timedelta\n",
    "\n",
    "# Filter past 7 days\n",
    "df['comment_date'] = pd.to_datetime(df['comment_date'])\n",
    "\n",
    "# Calculate the date 7 days ago from today\n",
    "seven_days_ago = datetime.now() - timedelta(days=7)\n",
    "\n",
    "# Filter the DataFrame for dates within the last 7 days\n",
    "filtered_df = df[df['comment_date'] >= seven_days_ago]\n",
    "\n",
    "mapping_df = pd.read_csv('firms.csv')\n",
    "# Function to replace ticker symbols with full company names\n",
    "def replace_tickers(comment):\n",
    "    for index, row in mapping_df.iterrows():\n",
    "        if isinstance(row['ticker'], str):  # Check if the ticker symbol is not empty\n",
    "            comment = comment.replace(row['ticker'], row['name'])\n",
    "        if isinstance(row['altticker'], str):  # Check if the alternate ticker symbol is not empty\n",
    "            comment = comment.replace(row['altticker'], row['name'])\n",
    "    return comment\n",
    "\n",
    "# Apply the function to the 'comment' column\n",
    "filtered_df['comment'] = filtered_df['comment'].apply(replace_tickers)\n",
    "filtered_df = filtered_df['comment']\n",
    "\n",
    "filtered_df.to_csv(\"seven_days_comments.csv\")"
   ]
  },
  {
   "cell_type": "markdown",
   "metadata": {},
   "source": [
    "## Topic Modelling"
   ]
  },
  {
   "cell_type": "code",
   "execution_count": null,
   "metadata": {},
   "outputs": [],
   "source": [
    "from bertopic import BERTopic\n",
    "from sklearn.feature_extraction.text import CountVectorizer\n",
    "\n",
    "vectoriser = CountVectorizer(ngram_range=(1,2), stop_words=\"english\")\n",
    "model = BERTopic(\n",
    "    vectorizer_model = vectoriser,\n",
    "    language = 'english',\n",
    "    calculate_probabilities = True,\n",
    "    verbose = True\n",
    ")\n",
    "\n",
    "text = \"\"\"\n",
    "\n",
    "\n",
    "\n",
    "\"\"\"\n",
    "topics, probs = model.fit_transform(text)"
   ]
  },
  {
   "cell_type": "markdown",
   "metadata": {},
   "source": [
    "## Summarisation"
   ]
  },
  {
   "cell_type": "code",
   "execution_count": 15,
   "metadata": {},
   "outputs": [
    {
     "name": "stdout",
     "output_type": "stream",
     "text": [
      "122\n"
     ]
    },
    {
     "data": {
      "text/plain": [
       "'JPM 0te puts are pretty cheap, just saying.. Inverse JPMorgan index?. JPM and Goldman are not your friends. They publish these bearish articles to rope you into thinking there\\'s a pullback only to slaughter your ill-timed puts.. JPM says: please stop blowing out our short calls. So buy JPM?. wow, it\\'s refreshing to see most of the comments actually read the entire article and some even quoted how wrong JPM has been for the past few years. This is unlike most of Reddit.\\n\\nCheers!. Thank you for commenting on this JPMorgan™ post. For your contribution your savings account has had a 0.05% bonus interest applied for 2 weeks.. He would have received a miserable 400mil bonus, a bailout for the bank and an offer to work for JPM, GS or MS. Sure, it will happen someday.  My take is that the Fed is gonna start cutting rates BEFORE that happens, so there’s more upside before the drop.  Does JPM have regard envy?. JPM is doing us a favor. Bears read this and buy more and more puts creating liquidity for us Bulls to keep breaking ATHs. Remember, JPM needs cheap stocks to scoop up fellas. Just think of the poor investment bank portfolio managers. They can\\'t go hungry!. JPM was buying bitcoin while Jamie tanked its price by talking trash about btc. Okay JPM, then short spy and post your position?. This has given me the confidence I need to walk into a local JPMorgan and demand an ISDA. Retail investors piled into stocks as the end of the first quarter neared, snapping up $3.5 billion in equities this past week, according to JPMorgan.\\n\\nNvidia, Tesla and Advanced Micro Devices received the largest retail inflows.\\n\\n-CNBC\\n\\nSo that’s why NVDA has been shit. By the time retail piles in the rally is over.. The election is in November of this year. JPM and I can still be right 😉 at the same time.. Much like everything on here, always inverse JPM. They’ll put this warning shit out and grab their nut on the opposite end. Look at their position on crypto: it sucks, it’s a scam, don’t buy it…well now we have a BTC ETF so never mind, buy buy buy. JPM\\'s been playing too much Starfox on their virtual-boy...\\n\\nhttps://preview.redd.it/sozy4xamdbrc1.jpeg?width=1280&format=pjpg&auto=webp&s=8f467bd9996d0aadf3c8e32f386a626076bdb0ef. My banker at JPM  just sent me a memo that they expect stocks to grind higher. I think JPM is a great buy before earnings. I can see it a 210-215$. I’ve been getting my ass kicked playing JPM breaking the $200 level.  I’ve never seen a stock struggle so hard to do it.   \\n\\nI’m still playing calls in order to capture a run to $210-$220, but I wouldn’t be surprised if it rejected again.. Only JPMorgan can afford one of these bad boys.. The real truth is that the raw data that the government is using is also widely available to purchase as well for private interests. Its not hard to calculate these numbers on your own if your a multi billion dollar company. No one is passing off some report before its released to get the numbers, whats happening is BlackRock and JPM and whoever else already is crunching these numbers and data in real time.. Wait until you find out they are just trolling and saying anything to take money from you. Just like JPM/GS/MS that are predicting a new recession every month just to advertise their \"Ultra Smart Beta Deep Value Moneymaxxing Equity Index\" managed by 10 CFAs who each have 85 years of experience in portofolio management but somehow the index managed to underperform S&P500 gross by 2-3% and net by 4-5% anually in the last 10 years. I pulled most out in late 2019. Then in April 20 I went in hard on Berkshire, JPM, BAC. Best decision I ever made, my only regret is that I didn’t go all in on those.. Just wait for the trend to change and then you can increase allocation. International is a mix of crappy and developed countries all in big basket. So let\\'s say you miss out on a year or two of international outperformance when the trend changes...so what? You have some 15 years of outperformance  that a year or two from international  would never have compensated. US indexes and International indexes are loosely correlated so you are not going to get some major diversification benefit when the US underperforms. These markets are not stock market/capitalist friendly and none of them have monster caps like the ones we have here in the US. Everyone talked about FANG and now the Mag 7 since they have trillion dollar market caps (except TSLA which lost that crown) but if you\\'ve had exposure to some of the other large caps over the last couple of years, you would have still enjoyed multibagger returns into half a trillion dollar market caps from big multinationals like JPMorgan chase, Visa, Elli Lilly, Master Card, Berkshire Hathaway, Walmart etc etc...many of these large caps returned money back to shareholders through hundreds of billions of dollars worth of  stock buybacks and dividend growth reducing their market caps below $500 billion at certain points so screw all these lemmings parroting textbook taking points meant for the average clueless retail participant. US multinationals have done a decent amount of research before they entering international markets to take capture their economic progress so much so that 45% of all revenue for s&p500  is from international exposure. So you are already internationally diversified when you hold an S&P500 index funds. I have total of 10% international split between emerging and developed through employer sponsored retirement accounts and it\\'s been a dead weight on my portfolio.. AMZN, CVX , PBR , BRK , JPM , SOFI , RKLB\\n\\nScared for the last two, but if they pull it it will leave me flying.. Bruh, in Brazil we have tax-free, safe and guaranteed 10%+ yearly return on LCIs and LCAs, don\\'t know if in the USA you guys have something similar, but we still go to the lowest rated market by JPM to gamble. Ulta news? Down -10% pre-market\\n\\nEdit: \"At JPM Conference Ulta Beauty Predicts Q1 Same-Store Sales At Lower End Of Initial Low Single-Digit Growth Forecast After Early\". ULTA news\\n\\n\"Shares of Ulta Beauty dropped Wednesday after the specialty cosmetics retailer warned about its outlook for the first quarter and reported a significant deceleration in growth across the beauty category in the past two months.\\n\\nUlta shares were recently down 14%. The warning dragged on other industry players, with e.l.f. Beauty off more than 8% and Estée Lauder down 4%.\\n\\nUlta said less than a month ago that it expected a moderation in growth after three strong years. However, it has seen its growth rate come down faster than it anticipated, CEO Dave Kimbell said at a JPMorgan conference.\"\\n\\nStock is down 14% today in a near bullet proof category since COVID. I feel this is the consumer saying they\\'re struggling to keep up. Stock had been pretty pricey, so it\\'s good to see a pullback on genuine news.. Apparently company had some negative comments at a JPM conference.. Saw this and did a double take given the current price and that it\\'s JPM. Also interesting that JPM mentions negative cash flow (-$1.3B) and significant revenue cuts.\\n\\n\\nPlenty of other downgrades. I\\'m shocked the stock is holding up given the delivery news. Full year EPS is now projected at just around $2 which is horrific. \\n\\n\\nDisclosure: This isn\\'t financial advice but I\\'m definitely a TSLQ buyer right now.. JPMorgan’s been underweight Tesla for a while. I ignore many analysts but not them. They also called out SVB before its collapse.. Important context here is that JPMorgan has always been off by miles with their Tesla price targets. Probably the last party anyone should listen to when it comes to Tesla.. incoming elmo tweet calling JPMorgan the woke mind virus. Id like to slash my estimate and price target of JPM to 150. Suck on that. BLK calls JPM CALLS WFC PUTS. Tiger says: Calls and shares on $JPM and $C. 🤌💯🤑💰![img](emote|t5_2th52|33495). With them being Thursday after hours I plan on adding eod there. Rate’s potentially not getting cut and record holiday season, credit companies should gap up. JPM though has been a tricky one to play. JPM said tesla would crash another 30% from yesterday 🤣🤣🤣🤣🤣🤣. Bit of an oversimplification.\\xa0 Some commercial real estate is thriving.\\xa0 JPM Chase is generating tremendous revenue from their commercial holdings.\\xa0 The issue is the older CRE that doesn\\'t have a thriving income and without such won\\'t be able to update and become viable again.\\n\\n\\n\\n\\nHowever, the concern here isn\\'t CRE, so much as how big of an issue this becomes, does it undermine the banks like it did in 2008, and how badly does it hit the market as a whole?. [JPMorgan’s Dimon warns inflation, political polarization, wars creating risks not seen since WWII](https://apnews.com/article/jpmorgan-chase-jamie-dimon-economy-wall-street-b43ef3442f30c26d16ae17df16752c0d). Jamie Dimon is a fucking God.\\n\\n>“The acquisition of a major company entails a lot of complexity. People tend to focus on the financial and economic outcomes, which is a reasonable thing to do. And in the case of First Republic, the numbers look rather good. We recorded an accounting gain of $3 billion on the purchase, and we told the world we expected to add more than $500 million to earnings annually, which we now believe will be closer to $2 billion.”\\n\\nJPM 🚀. Jpm gonna rip this friday ![img](emote|t5_2th52|4276). i know you want more bank failures JPM.. Doesn’t look like it.\\n\\nhttps://www.cnn.com/2023/10/02/investing/jamie-dimon-jpmorgan-7-percent-interest-rate-recession/index.html. Interest rate can also be bad for banks. Haven’t checked the amount ppl taking loan and the default rates but if number of people taking loans decrease and defaults increase it hurts the bank and the economy. And don’t forget banks also have to take loans and with high interest they also get hurt in that case. With that being said JPM is a cleverly run bank so I think it’ll be close to estimates for EPS. if I\\'ve learned anything, it\\'s that you should ignore analysts and other talking heads.\\n\\nJPMorgan are a bunch of clowns. Why would you listen to them?\\n\\n>  From 2000 to 2024, JPMorgan incurred fines totaling $39.34 billion for various violations. The largest fine, amounting to $13.46 billion, was related to toxic securities abuses. \\n\\n> Failure to comply with investor protection policies resulted in a fine of $6.25 billion, followed by $5.36 billion for mortgage abuses. Additionally, banking violations led to fines totaling $4.26 billion during the same period.\\n\\n> Financial violations accounted for the highest amount totaling $26.66 billion across 117 records, followed by consumer protection at $8.62 billion\\n\\n> Braunstein — and JPMorgan CEO Jamie Dimon — “omitted key facts” on the call, the report says, including that the troublesome synthetic credit portfolio had tripled in size in the prior quarter and breached all of the risk limits set up by the bank.\\n\\n> SEC Fines JPMorgan Chase $18 Million for Blocking Clients From Contacting Regulators\\n\\n\\nSo uhhh, great people! the best. They are certainly generating billions for the fed in fines. I\\'m sure Jamie is thinking about your best interests and not finding ways to make money off you.. JPM (earnings on Friday, I think) *usually!!* falls back on earnings -look back at the charts, I may buy a few more shares IF they do this time too... Per JPM:\\n\\nhttps://preview.redd.it/1k68cmao3mtc1.jpeg?width=775&format=pjpg&auto=webp&s=849a0a1a3e437e6b8220fe3a3d71daaa6e06519c. Just tell me please, maybe I dont understand: JPM is showing here just scenarios where CPI rises, but not falls? Am I missunderstanding this?. Crystal clear that is. Do you know if JPM reports are always this easy to understand around big datas? Might take the habit to read their posts.. Calls look expensive. You will probably get IV crushed on them.  You’re better off betting on JPM unless you want to go LEAP on blackrock.. https://finance.yahoo.com/news/jpmorgan-blackrock-among-bls-economist-184301611.html. So if CPI comes in hot, calls on JPM?. Call on JPMorgan now anyways for their ER this week. Then there’s the guy who posted abojt JPM earnings on Friday. Little mini market tank before a rally next week. I’m sitting mostly cash so can’t really lose o guess. Jpm gonna beat earnings 100% bro. Why would jpm have a bad quarter?  U def not in the industry. I’m shorting JPM & WFC - June, then 2025 & 2026. Trust me you can’t play JPM short, he can outlast the whole US economy. Even long is risky\\xa0. This is a horrible take. There is no way JPM affects the market more than CPI. This CPI could be huge. If the numbers come in high enough, I wouldn\\'t be surprised to see a 2% drop on SPY. What remains to be seen is if the bulls will run it back up for power hour again.. Hurricane Jamie. JPM’s chief economist has opposite view.. Here you go. Huge fan of suking dudes off I assume. Big stan energy.\\n\\n[https://www.jpmorgan.com/insights/global-research/outlook/market-outlook-2022](https://www.jpmorgan.com/insights/global-research/outlook/market-outlook-2022). Kind of feel like JPM is one of those hold forever stocks. It has been on an overall trajectory up since it\\'s inception. And the only way it ever collapses is if the market as a whole and the world in general is crumbling around it.. This is in the middle of it. I linked the JPM prediction for 2022 below. After the fact everyone can predict anything.\\n\\n>Dimon said the US economy is in good shape and is set for very strong growth this year.\\n\\n[https://markets.businessinsider.com/news/stocks/jamie-dimon-jpmorgan-ceo-stock-market-prediction-fed-interest-rates-2022-1](https://markets.businessinsider.com/news/stocks/jamie-dimon-jpmorgan-ceo-stock-market-prediction-fed-interest-rates-2022-1). It\\'s a summary of his shareholder newsletter.  [PDF here](https://www.jpmorganchase.com/content/dam/jpmc/jpmorgan-chase-and-co/investor-relations/documents/ceo-letter-to-shareholders-2023.pdf).  See page 36 \"Staying Competitive in the Shrinking Public Markets\".. Bank that makes profits... JPM. My jpm calls are rekt. Jpm calls are toast fck me. Jamie Dimon and JPM make a fortune taking companies public, of course they\\'re trying to scare people into demanding more IPOs.... If you want to hedge your position, I’d buy some at-the-money calls on XLF that expire this Friday. It’ll provide some protection to your port for a couple grand. Personally my current position is about $5k on in-the-money XLF puts expiring next month, and I’ll be hedging it by buying a few hundred dollars worth of 1dte SPY calls tomorrow at market close. Bank earnings numbers are pretty close to irrelevant, all that matters is their guidance and outlook on the overall market. Everyone is waiting for what Dimon says on that JPM conference call. You’ve literally had the last 3 weeks to run JPM calls and you choose the day of an inflation report to call?? Regarded lol. My mother was in investment club back in the 80s. Her father had bank stock going back into the 50s…which is now JPM. \\n\\nShe passed away about 8 years ago and she still had investments that she remembered who brought it to the club, and where she was living. Some highlights were oracle, and Microsoft bought and offering prices. These stepped up in cost basis when she passed away. They were only like 10-50 shares as it was part of a club.. Do yall enjoy holding bags and getting tag teamed by BlackRock and JPM?. aight gang im loading up jpm calls wish me luck ![img](emote|t5_2th52|4640). So my jpm and citi calls will print tomorrow?. Friday.  JPM is reporting and that kicks off earnings season.  Also, folks have been locking in losses as tax day nears.  I expect \"losers\" with positive earning surprise to jack up.. Jpm 197.5 will it beat it??. JPM ![img](emote|t5_2th52|4258). JPM might say the magical word during earnings call to send bears back to hibernation ![img](emote|t5_2th52|4267)![img](emote|t5_2th52|4271)![img](emote|t5_2th52|4276). JPM to the moon?. JPM and WFC calls. Damn aapl out here saving my port. Praying my jpm calls print ![img](emote|t5_2th52|4258)![img](emote|t5_2th52|4258). $10K spot trade on JPM. Hoping they will report higher than projected NIM based on 2024 rates remaining higher for longer, and a rebound in M&A activity (deal volume in 2023 was low).. Hopefully all of you bought JPM calls before close today.. JPM earnings. financial analysts call in promptly at 8:30am to hear from Jamie Dimon. Silence. 5 mins later, there’s a loud thud causing static through their receivers. followed by another 4 magnitude earthquake in NYC. What’s going on they ask? Dimon collects his ball sack back into his pants that he slammed on his desk. And announces to the confused analysts that JPM beat EPS estimates by 15% with higher guidance. \\n\\nMy calls print. Sydney Sweeney is there. My doctors as well suggesting we up my medication. Crazy blackrock and JPM not investigated for insider CPI trading.. Goldman has entered the chat - \"Fuck \\'em\"\\n\\nUBS has entered the chat - \" Ja natürlich!\" \\n\\n JPM  has entered the chat - \"Jamie, more assets are available!\"\\n\\nBank of America has entered the chat - \"Huh, y\\'all done f\\'d up\". Bro it’s earning seasons. JPM starts tomorrow. Buckle up. 🚀🚀🚀🚀. JPM is gonna fuck everyone tomorrow for sure 👍. JPM is Friday. If JPM doesn’t crush tomorrow everything is fucked. I got april19 197.5 jpm and april19 Citi 61 calls, you dont think iv crush will rekt me? :). JPM needs to absolutely rip tomorrow ⤴️⤴️⤴️. Schwab lets me split money into them evenly with their “stock slices”, but sometimes I’ll put more into specific ones that I like more like MSFT.\\n\\nAPPL, MSFT, GOOGL, AMZN, DIS, AMD, NVDA\\n\\nBRK/B, COST, META, INTC, LLY, UNH, LIN,\\n\\nV, JPM, LMT, MCD, WBD, UBER, \\n\\n\\nAlso I have some RDDT and DUOL. If I had to guess, I\\'d say that next week will be red -- but that\\'s the healthiest option for the market. Earnings-related selloffs (like with JPM on Friday) are more explosive if there hasn\\'t been any consolidation. Some people will want to take profit before ERs, because a *ton* of big companies have huge expectations this quarter (NVDA, META, AMZN, NFLX, etc). Any misses will be severely punished.. The only bank that matters is JPM. \\n\\nJaime Dimon is the shadow Fed.. JPM back to $200 V shape recovery. Sell off was due to institutions to grab some more, everyone saw the earnings.. You just confirmed it for me brother. I woke up thinking the same thing. I bought calls for fucking JPM and even with great earning the shit still took a dump. No way next week anyone is walking away with profit. Play safe.. I’m not even going to lie here:\\n\\nI like the stock. I like TSM. but the things currently making stocks rocket during earnings is FORWARD. GUIDANCE. it’s why JPM tanked today and my puts printed. Their NIIM guidance wasn’t what people thought it would be. It’s why I was royally SCREWED with my LULU calls.\\n\\nThat being said, unless TSM has guidance that ups their projected orders for the rest of the year I don’t see them jumping 10%. I hardly see them jumping 5. Maybe I’m wrong. I’m happy to be wrong here. But watching the price be predictable and manipulated the past week between 144-148 has me worried.\\n\\nThey make the chips for everyone so you think they’d be priced higher. And they should be. I’ll probably buy a few calls or a straddle but I can’t justify the full port yolo. \\n\\nI could actually see them dropping into the 130s post earnings. I don’t want it to happen because I want to be wrong so bad, but it’s 100% a possibility. Just like with JPM. everyone was SO sure, but I had a gut feeling and just went with it. How can anyone suggest that holding/investing more is a good idea right now with inflation basically untamable and the fed strongly looking in the opposite direction of decreasing rates? If the brightest minds in finance(JPM CEO and Warren Buffet for example) are telling you to be worried, be worried. They have similar/same financial goals as you and I. This bull run is a dead cat, at best.. Did this today with jpm and wfc. Jpm kind of f\\'d next week up, though, because every bank reporting next week tanked.. Yeah JPM was my play this week too. I was disappointed cause now my pool is a little smaller next week 😅. Yesterday I bought a little bit of JPM, a little bit of VXUS, and a whole lot of UNH. Anyone else?. You can get access to jpm money market funds through their brokerage self directed. You should be getting way more upvotes.  JPM and BAC are considered fortresses.  Businesses with more than $250,000 also will flee to them.\\n\\nThe top comment in this thread is about SOFI offering 4.6%.  While that\\'s great for consumers that means JPM offering 0% can invest in risk-free Treasuries at 4.5% while SOFI has to invest in the riskiest trash at 8% to get the same spread.  Stuff like subprime auto is already turning to dogshit for them.\\n\\nAs long as FDIC limits and the current regulatory framework massively benefits size, big banks will keep printing and small ones will slowly die out / be bought out.. They have a 5.88% NIM and still have consistently lost money generally.  \\n\\nWhat does that tell you?  Only way to offer 4.6% to consumers and have such a large spread means investing in trash. This is a disaster waiting to happen with awful fundamentals.\\n\\nMost banks have shifted digital and less branches anyway, it\\'s mostly a lie spread by pumpers that \"fintech\" has an advantage over big banks when it\\'s actually completely the opposite.  JPM offers 0% means they can invest in risk-free Treasuries at 4.5%.. Bruh, it was red on Friday not simply because of Iran Israel war. That\\'s old news already. it is because CPI + JPM earning are the canary. Things are not looking as good as what market priced in before, so correction is needed. And as more earnings unfold, we will get a better picture.\\n\\n\\nWhatever it is, probably sideways. So fuck your puts fuck your calls. Jpow has you by the balls.. Teehee I bought puts on JPM and WFC about a week ago, let’s tank this dirty filthy thing please.. This is what their money managers at Goldman or JPM will tell them.  Never sell.  Active trading underperforms buy and hold due to tax drain.. I think some stalwarts could still outperform the SP500 going forward: MKC, IQV, ICE, MSFT, ORCL, AMAT, CRM, TJX, JPM, MA, DE, BRK.B, among others.. Thanks, OP. May I have an analysis on the following:\\nJPM, META, VRTX, GOOGL, PFE, PYPL, TSN, QCOM.\\n\\nAlso, is there a link to the Github code? Thank you so much for your scientific contribution!!. \\tTicker Symbol: JPM\\n\\tP/E: 11.27\\tP/E Rank: 83.53\\n\\tP/S: 3.08\\tP/S Rank: 38.18\\n\\tP/B: 1.77\\tP/B Rank: 59.49\\n\\tP/FCF: 40.46\\tP/FCF Rank: 43.29\\n\\tSHYield: 4.31%\\tSHYield Rank: 74.24\\n\\tEV/EBITDA: 10000.00\\tEV/EBITDA Rank: 16.44\\n\\tOverall Score: 315.18\\n\\t6 month price momentum: 25.07%\\n\\n\\tTicker Symbol: META\\n\\tP/E: 34.36\\tP/E Rank: 50.42\\n\\tP/S: 9.67\\tP/S Rank: 15.39\\n\\tP/B: 8.56\\tP/B Rank: 16.07\\n\\tP/FCF: 29.76\\tP/FCF Rank: 48.84\\n\\tSHYield: 1.83%\\tSHYield Rank: 55.87\\n\\tEV/EBITDA: 20.81\\tEV/EBITDA Rank: 46.82\\n\\tOverall Score: 233.41\\n\\t6 month price momentum: 56.15%\\n\\n\\tTicker Symbol: VRTX\\n\\tP/E: 28.55\\tP/E Rank: 55.11\\n\\tP/S: 10.41\\tP/S Rank: 14.65\\n\\tP/B: 5.81\\tP/B Rank: 22.43\\n\\tP/FCF: 30.70\\tP/FCF Rank: 48.00\\n\\tSHYield: 0.29%\\tSHYield Rank: 41.75\\n\\tEV/EBITDA: 20.55\\tEV/EBITDA Rank: 47.21\\n\\tOverall Score: 229.15\\n\\t6 month price momentum: 8.57%\\n\\n\\tTicker Symbol: GOOGL\\n\\tP/E: 27.17\\tP/E Rank: 56.83\\n\\tP/S: 6.38\\tP/S Rank: 20.90\\n\\tP/B: 6.94\\tP/B Rank: 19.32\\n\\tP/FCF: 28.22\\tP/FCF Rank: 50.21\\n\\tSHYield: 3.04%\\tSHYield Rank: 65.25\\n\\tEV/EBITDA: 18.77\\tEV/EBITDA Rank: 49.93\\n\\tOverall Score: 262.45\\n\\t6 month price momentum: 12.22%\\n\\n\\tTicker Symbol: PFE\\n\\tP/E: 71.95\\tP/E Rank: 39.96\\n\\tP/S: 2.50\\tP/S Rank: 44.58\\n\\tP/B: 1.64\\tP/B Rank: 62.43\\n\\tP/FCF: 30.47\\tP/FCF Rank: 48.25\\n\\tSHYield: 6.57%\\tSHYield Rank: 86.33\\n\\tEV/EBITDA: 18.14\\tEV/EBITDA Rank: 50.99\\n\\tOverall Score: 332.55\\n\\t6 month price momentum: -21.90%\\n\\n\\tTicker Symbol: PYPL\\n\\tP/E: 16.79\\tP/E Rank: 71.90\\n\\tP/S: 2.29\\tP/S Rank: 47.42\\n\\tP/B: 3.29\\tP/B Rank: 36.66\\n\\tP/FCF: 16.11\\tP/FCF Rank: 65.00\\n\\tSHYield: 6.69%\\tSHYield Rank: 86.87\\n\\tEV/EBITDA: 12.31\\tEV/EBITDA Rank: 66.68\\n\\tOverall Score: 374.52\\n\\t6 month price momentum: 11.23%\\n\\n\\tTicker Symbol: TSN\\n\\tP/E: 10000.00\\tP/E Rank: 17.15\\n\\tP/S: 0.38\\tP/S Rank: 92.82\\n\\tP/B: 1.11\\tP/B Rank: 79.22\\n\\tP/FCF: 34.45\\tP/FCF Rank: 45.58\\n\\tSHYield: 3.56%\\tSHYield Rank: 69.14\\n\\tEV/EBITDA: 13.90\\tEV/EBITDA Rank: 61.90\\n\\tOverall Score: 365.81\\n\\t6 month price momentum: 19.85%\\n\\n\\tTicker Symbol: QCOM\\n\\tP/E: 24.82\\tP/E Rank: 59.68\\n\\tP/S: 5.27\\tP/S Rank: 24.17\\n\\tP/B: 8.31\\tP/B Rank: 16.58\\n\\tP/FCF: 19.33\\tP/FCF Rank: 60.00\\n\\tSHYield: 3.01%\\tSHYield Rank: 64.83\\n\\tEV/EBITDA: 17.93\\tEV/EBITDA Rank: 51.30\\n\\tOverall Score: 276.55\\n\\t6 month price momentum: 54.15%\\n\\nI don\\'t have a GitHub directory, but it\\'s not a bad idea to create one!  I\\'ve got a couple different ML-based financial modelling projects I\\'ve been tinkering on, but they\\'re definitely not ready for sharing.. JPM has\\xa0EV/EBITDA: 10000.0?. This really is the most obvious Green Day in months in my mind. \\n\\nEveryone over reacted to JPM. And Iran. Bears went wild celebrating one of the best days they’ll get this year.\\n\\nIt was clear to me that a reversal was in order. SPY $518 EOD.. JPM today, right? RIGHT?. JPM. What a beat - how come JPM dropped so much vs these guys. Because numbers from JPM were disappointing.. JP speaks tomorrow? F me. \\n\\nI have $900 of calls on $185 for JPM, down 30% right now. But everytime he speaks it absolutely takes my anus to pound town. Good or bad it is almost always the opposite direction.. So to recap the first 2 days of earnings season, JPM beat by 8%, GS beat by 30% and SPY drops 3%….. JPM, the biggest grow the fastest in the banking sector. This ain’t tech sector.'"
      ]
     },
     "execution_count": 15,
     "metadata": {},
     "output_type": "execute_result"
    }
   ],
   "source": [
    "condition1 = df['matched_phrase'] == 'JPMorgan'\n",
    "condition2 = df['matched_phrase'] == 'jpm'\n",
    "condition3 = df['matched_phrase'] == 'Jpm'\n",
    "condition4 = df['matched_phrase'] == 'JPM'\n",
    "condition5 = df['matched_phrase'] == 'jpmorgan'\n",
    "condition6 = df['matched_phrase'] == 'JPMorgan'\n",
    "condition7 = df['matched_phrase'] == 'JPMorgan chase'\n",
    "\n",
    "filtered_df = df[condition1 | condition2 | condition3 | condition4 | condition5 | condition6 | condition7]\n",
    "\n",
    "jpmorgan_comments = filtered_df['comment'].to_list()\n",
    "print(len(jpmorgan_comments))\n",
    "jpmorgan_comments = '. '.join(jpmorgan_comments)\n",
    "jpmorgan_comments"
   ]
  },
  {
   "cell_type": "code",
   "execution_count": 17,
   "metadata": {},
   "outputs": [
    {
     "name": "stdout",
     "output_type": "stream",
     "text": [
      "JPM 0te puts are pretty cheap, just saying.. Inverse JPMorgan index?\n"
     ]
    }
   ],
   "source": [
    "from pathlib import Path\n",
    "\n",
    "# Related third party imports\n",
    "import pandas as pd\n",
    "from transformers import BartTokenizer, BartForConditionalGeneration\n",
    "import torch\n",
    "\n",
    "\n",
    "model_path = Path.cwd().parent / 'models' / 'bart-cnn-large'\n",
    "summariser = BartForConditionalGeneration.from_pretrained(model_path)\n",
    "tokeniser = BartTokenizer.from_pretrained(model_path)\n",
    "\n",
    "inputs = tokeniser([jpmorgan_comments], max_length=1024, return_tensors='pt', truncation=True)\n",
    "summary_ids = summariser.generate(inputs['input_ids'], \n",
    "                                    max_length=20, \n",
    "                                    min_length=10,\n",
    "                                    early_stopping=True,\n",
    "                                    num_beams=4,\n",
    "                                    temperature=1.0,\n",
    "                                    repetition_penalty=5.0\n",
    "                                    )\n",
    "summary = tokeniser.decode(summary_ids[0], skip_special_tokens=True)\n",
    "print(summary)"
   ]
  },
  {
   "cell_type": "code",
   "execution_count": 19,
   "metadata": {},
   "outputs": [
    {
     "name": "stderr",
     "output_type": "stream",
     "text": [
      "Some weights of BartForSequenceClassification were not initialized from the model checkpoint at c:\\Users\\333866\\Documents\\dev\\models\\bart-cnn-large and are newly initialized: ['classification_head.dense.bias', 'classification_head.dense.weight', 'classification_head.out_proj.bias', 'classification_head.out_proj.weight']\n",
      "You should probably TRAIN this model on a down-stream task to be able to use it for predictions and inference.\n"
     ]
    }
   ],
   "source": [
    "from transformers import BartTokenizer, BartForSequenceClassification\n",
    "\n",
    "tokenizer = BartTokenizer.from_pretrained(model_path)\n",
    "classifier = BartForSequenceClassification.from_pretrained(model_path)\n",
    "inputs = tokeniser([jpmorgan_comments], max_length=1024, return_tensors='pt', truncation=True)\n",
    "labels = torch.tensor([1]).unsqueeze(0) \n",
    "outputs = classifier(inputs['input_ids'], labels=labels)\n",
    "loss, logits = outputs[:2]"
   ]
  },
  {
   "cell_type": "code",
   "execution_count": null,
   "metadata": {},
   "outputs": [],
   "source": []
  }
 ],
 "metadata": {
  "kernelspec": {
   "display_name": "reddit-api",
   "language": "python",
   "name": "python3"
  },
  "language_info": {
   "codemirror_mode": {
    "name": "ipython",
    "version": 3
   },
   "file_extension": ".py",
   "mimetype": "text/x-python",
   "name": "python",
   "nbconvert_exporter": "python",
   "pygments_lexer": "ipython3",
   "version": "3.11.8"
  },
  "orig_nbformat": 4
 },
 "nbformat": 4,
 "nbformat_minor": 2
}
